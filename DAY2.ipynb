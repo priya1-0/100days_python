{
 "cells": [
  {
   "cell_type": "code",
   "execution_count": 1,
   "id": "7229893e",
   "metadata": {},
   "outputs": [
    {
     "name": "stdout",
     "output_type": "stream",
     "text": [
      "enter the string abc\n",
      "cba\n"
     ]
    }
   ],
   "source": [
    "#reverse a string\n",
    "string = input(\"enter the string \")\n",
    "new = (string[::-1])\n",
    "print(new)"
   ]
  },
  {
   "cell_type": "code",
   "execution_count": 3,
   "id": "a25dd65f",
   "metadata": {},
   "outputs": [
    {
     "name": "stdout",
     "output_type": "stream",
     "text": [
      "Type a two digit number: 45\n",
      "9\n"
     ]
    }
   ],
   "source": [
    "#print sum of a two digit number\n",
    "two_digit_number = str(input(\"Type a two digit number: \"))\n",
    "\n",
    "digit_one = int(two_digit_number[0])\n",
    "digit_two = int(two_digit_number[1])\n",
    "\n",
    "sum = digit_one + digit_two\n",
    "print(sum)"
   ]
  },
  {
   "cell_type": "markdown",
   "id": "7eda7622",
   "metadata": {},
   "source": [
    "# calculate BMI"
   ]
  },
  {
   "cell_type": "code",
   "execution_count": 14,
   "id": "7fc25982",
   "metadata": {},
   "outputs": [
    {
     "name": "stdout",
     "output_type": "stream",
     "text": [
      "enter your weight in kg: 800\n",
      "enter your height in m: 7\n",
      "16\n"
     ]
    }
   ],
   "source": [
    "# calculate BMI\n",
    "weight = float(input(\"enter your weight in kg: \"))\n",
    "height = float(input(\"enter your height in m: \"))\n",
    "h_squared = height**2\n",
    "# 🚨 Don't change the code above 👆\n",
    "bmi = round(weight/h_squared)\n",
    "print((bmi))"
   ]
  },
  {
   "cell_type": "markdown",
   "id": "830ceab8",
   "metadata": {},
   "source": [
    "# calculate number of weeks left based on age"
   ]
  },
  {
   "cell_type": "code",
   "execution_count": 12,
   "id": "e53e14ad",
   "metadata": {},
   "outputs": [
    {
     "name": "stdout",
     "output_type": "stream",
     "text": [
      "What is your current age?90\n",
      "You have 0 days, 0 weeks, and 0 months left\n"
     ]
    }
   ],
   "source": [
    "# calculate number of weeks\n",
    "age = int(input(\"What is your current age?\"))\n",
    "# 🚨 Don't change the code above 👆\n",
    "years_remaining = 90 - age\n",
    "months_remaining = 12 * years_remaining\n",
    "weeks_remaining = 52 * years_remaining\n",
    "days_remaining = 365 * years_remaining\n",
    "print(f\"You have {days_remaining} days, {weeks_remaining} weeks, and {months_remaining} months left\")"
   ]
  },
  {
   "cell_type": "markdown",
   "id": "292403c6",
   "metadata": {},
   "source": [
    "# Tip calculator DAY2 project\n"
   ]
  },
  {
   "cell_type": "code",
   "execution_count": 13,
   "id": "cbbec4d3",
   "metadata": {},
   "outputs": [
    {
     "name": "stdout",
     "output_type": "stream",
     "text": [
      "Welcome to the tip calculator!\n",
      "What was the total bill? 670\n",
      "How much tip would you like to give? 10, 12, or 15? 10\n",
      "How many people to split the bill? 3\n",
      "Each person should pay:  245.667\n"
     ]
    }
   ],
   "source": [
    "print(\"Welcome to the tip calculator!\")\n",
    "total = float(input(\"What was the total bill? \"))\n",
    "tip = int(input(\"How much tip would you like to give? 10, 12, or 15? \"))\n",
    "num = int(input(\"How many people to split the bill? \"))\n",
    "tip_cal = (tip/100) + 1\n",
    "sum = (total / num) * tip_cal\n",
    "result = round(sum , 3)\n",
    "print(\"Each person should pay: \", result )"
   ]
  },
  {
   "cell_type": "code",
   "execution_count": null,
   "id": "3baa9d17",
   "metadata": {},
   "outputs": [],
   "source": []
  }
 ],
 "metadata": {
  "kernelspec": {
   "display_name": "Python 3",
   "language": "python",
   "name": "python3"
  },
  "language_info": {
   "codemirror_mode": {
    "name": "ipython",
    "version": 3
   },
   "file_extension": ".py",
   "mimetype": "text/x-python",
   "name": "python",
   "nbconvert_exporter": "python",
   "pygments_lexer": "ipython3",
   "version": "3.8.8"
  }
 },
 "nbformat": 4,
 "nbformat_minor": 5
}
