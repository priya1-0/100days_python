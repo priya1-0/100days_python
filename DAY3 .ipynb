{
 "cells": [
  {
   "cell_type": "markdown",
   "id": "c06533a2",
   "metadata": {},
   "source": [
    "# check even or odd\n"
   ]
  },
  {
   "cell_type": "code",
   "execution_count": 1,
   "id": "e2bb964b",
   "metadata": {},
   "outputs": [
    {
     "name": "stdout",
     "output_type": "stream",
     "text": [
      "Which number do you want to check? 4\n",
      "This is an even number.\n"
     ]
    }
   ],
   "source": [
    "number = int(input(\"Which number do you want to check? \"))\n",
    "\n",
    "if (number % 2 == 0):\n",
    "    print(\"This is an even number.\")\n",
    "else:\n",
    "    print(\"This is an odd number.\")"
   ]
  },
  {
   "cell_type": "markdown",
   "id": "c21d598d",
   "metadata": {},
   "source": [
    "# Categorise based on BMI"
   ]
  },
  {
   "cell_type": "code",
   "execution_count": 4,
   "id": "26373df2",
   "metadata": {},
   "outputs": [
    {
     "name": "stdout",
     "output_type": "stream",
     "text": [
      "enter your weight in kg: 9000\n",
      "enter your height in m: 4\n",
      "Your BMI is 562, you are clinically obese.\n"
     ]
    }
   ],
   "source": [
    "weight = float(input(\"enter your weight in kg: \"))\n",
    "height = float(input(\"enter your height in m: \"))\n",
    "h_squared = height**2\n",
    "\n",
    "bmi = round(weight/h_squared)\n",
    "if (bmi == 18.5):\n",
    "    print(f\"Your BMI is {bmi}, you are underweight.\")\n",
    "elif ( bmi < 25):\n",
    "    print(f\"Your BMI is {bmi}, you are normal weight.\")\n",
    "elif (bmi < 30):\n",
    "    print(f\"Your BMI is {bmi}, you are slightly overweight.\")\n",
    "elif (bmi <=35 ):\n",
    "    print(f\"Your BMI is {bmi}, you are obese.\")\n",
    "else:\n",
    "    print(f\"Your BMI is {bmi}, you are clinically obese.\")"
   ]
  },
  {
   "cell_type": "markdown",
   "id": "f67aa461",
   "metadata": {},
   "source": [
    "# leap year or not"
   ]
  },
  {
   "cell_type": "code",
   "execution_count": 5,
   "id": "7c0e2524",
   "metadata": {},
   "outputs": [
    {
     "name": "stdout",
     "output_type": "stream",
     "text": [
      "Which year do you want to check? 2000\n",
      "leap year\n"
     ]
    }
   ],
   "source": [
    "year = int(input(\"Which year do you want to check? \"))\n",
    "\n",
    "if (year % 4 == 0):\n",
    "    if (year % 100 == 0):\n",
    "        if(year % 400 == 0):\n",
    "            print(\"leap year\")\n",
    "        else:\n",
    "            (\"not a leap year \")\n",
    "    else:\n",
    "        print(\"not leap year\")\n",
    "else:\n",
    "    print(\"not a leap year\")"
   ]
  },
  {
   "cell_type": "markdown",
   "id": "511c1690",
   "metadata": {},
   "source": [
    "# pizza bill generator"
   ]
  },
  {
   "cell_type": "code",
   "execution_count": 8,
   "id": "35fa9a5d",
   "metadata": {},
   "outputs": [
    {
     "name": "stdout",
     "output_type": "stream",
     "text": [
      "Welcome to Python Pizza Deliveries!\n",
      "What size pizza do you want? S, M, or L S\n",
      "Do you want pepperoni? Y or N Y\n",
      "Do you want extra cheese? Y or N N\n",
      "your bill is 17\n"
     ]
    }
   ],
   "source": [
    "print(\"Welcome to Python Pizza Deliveries!\")\n",
    "size = input(\"What size pizza do you want? S, M, or L \")\n",
    "add_pepperoni = input(\"Do you want pepperoni? Y or N \")\n",
    "extra_cheese = input(\"Do you want extra cheese? Y or N \")\n",
    "bill = 0\n",
    "\n",
    "if (size == \"S\"):\n",
    "    bill = 15\n",
    "    if (add_pepperoni == \"Y\"):\n",
    "        bill +=2\n",
    "elif (size == \"M\"):\n",
    "    bill = 20\n",
    "    if (add_pepperoni == \"Y\"):\n",
    "        bill +=3\n",
    "elif (size == \"L\"):\n",
    "    bill = 25\n",
    "    if (add_pepperoni == \"Y\"):\n",
    "        bill +=3\n",
    "if (extra_cheese == \"Y\"):\n",
    "    bill +=1\n",
    "print(f\"your bill is {bill}\")"
   ]
  },
  {
   "cell_type": "markdown",
   "id": "e3b14120",
   "metadata": {},
   "source": [
    "# rollercoster bill generator\n"
   ]
  },
  {
   "cell_type": "code",
   "execution_count": 9,
   "id": "479cdeb4",
   "metadata": {},
   "outputs": [
    {
     "name": "stdout",
     "output_type": "stream",
     "text": [
      "Welcome to the rollercoaster!\n",
      "What is your height in cm? 130\n",
      "You can ride the rollercoaster!\n",
      "What is your age? 15\n",
      "Youth tickets are $7.\n",
      "Do you want a photo taken? Y or N. Y\n",
      "Your final bill is $10\n"
     ]
    }
   ],
   "source": [
    "print(\"Welcome to the rollercoaster!\")\n",
    "height = int(input(\"What is your height in cm? \"))\n",
    "bill = 0\n",
    "\n",
    "if height >= 120:\n",
    "    print(\"You can ride the rollercoaster!\")\n",
    "    age = int(input(\"What is your age? \"))\n",
    "    if age < 12:\n",
    "        bill = 5\n",
    "        print(\"Child tickets are $5.\")\n",
    "    elif age <= 18:\n",
    "        bill = 7\n",
    "        print(\"Youth tickets are $7.\")\n",
    "    elif age >= 45 and age <= 55:\n",
    "        print(\"Everything is going to be ok. Have a free ride on us!\")\n",
    "    else:\n",
    "        bill = 12\n",
    "        print(\"Adult tickets are $12.\")\n",
    "\n",
    "    wants_photo = input(\"Do you want a photo taken? Y or N. \")\n",
    "    if wants_photo == \"Y\":\n",
    "        bill += 3\n",
    "\n",
    "    print(f\"Your final bill is ${bill}\")\n",
    "\n",
    "else:\n",
    "    print(\"Sorry, you have to grow taller before you can ride.\")"
   ]
  },
  {
   "cell_type": "markdown",
   "id": "70f55438",
   "metadata": {},
   "source": [
    "# Love calculator"
   ]
  },
  {
   "cell_type": "code",
   "execution_count": 10,
   "id": "69ac0220",
   "metadata": {},
   "outputs": [
    {
     "name": "stdout",
     "output_type": "stream",
     "text": [
      "Welcome to the Love Calculator!\n",
      "What is your name? \n",
      "df\n",
      "What is their name? \n",
      "fgt\n",
      "Your score is 10, you go together like coke and mentos.\n"
     ]
    }
   ],
   "source": [
    "print(\"Welcome to the Love Calculator!\")\n",
    "name1 = input(\"What is your name? \\n\")\n",
    "name2 = input(\"What is their name? \\n\")\n",
    "\n",
    "lower_name1 = name1.lower()\n",
    "lower_name2 = name2.lower()\n",
    "cal_both = lower_name1 + lower_name2\n",
    "t=int(cal_both.count('t'))\n",
    "r=int(cal_both.count('r'))\n",
    "u=int(cal_both.count('u'))\n",
    "e=int(cal_both.count('e'))\n",
    "l= int(cal_both.count('l'))\n",
    "o =int(cal_both.count('o'))\n",
    "v = int(cal_both.count('v'))\n",
    "e = int(cal_both.count('e'))\n",
    "first_string = int(t + r + u + e)\n",
    "second_string = int(l + o + v + e)\n",
    "total = str(first_string) + str(second_string)\n",
    "int_total = int(total)\n",
    "if ((int_total <=10) or (int_total >=90)):\n",
    "    print(f\"Your score is {total}, you go together like coke and mentos.\")\n",
    "elif(int_total >= 40 and int_total <= 50):\n",
    "    print(f\"Your score is {total}, you are alright together.\")\n",
    "else:\n",
    "    print(f\"Your score is {total}.\")\n"
   ]
  },
  {
   "cell_type": "markdown",
   "id": "593dd5d1",
   "metadata": {},
   "source": [
    "# DAY3 project treasure hunt game"
   ]
  },
  {
   "cell_type": "code",
   "execution_count": null,
   "id": "2cd99528",
   "metadata": {},
   "outputs": [],
   "source": [
    "\n",
    "print(\"Welcome to Treasure Island.\")\n",
    "print(\"Your mission is to find the treasure.\")\n",
    "\n",
    "#Write your code below this line 👇\n",
    "\n",
    "choice1 = input('You\\'re at a cross road. Where do you want to go? Type \"left\" or \"right\" \\n').lower()\n",
    "if choice1 == \"left\":\n",
    "    choice2 = input('You\\'ve come to a lake. There is an island in the middle of the lake. Type \"wait\" to wait for a boat. Type \"swim\" to swim across. \\n').lower()\n",
    "    if choice2 == \"wait\":\n",
    "    choice3 = input(\"You arrive at the island unharmed. There is a house with 3 doors. One red, one yellow and one blue. Which colour do you choose? \\n\").lower()\n",
    "    if choice3 == \"red\":\n",
    "        print(\"It's a room full of fire. Game Over.\")\n",
    "    elif choice3 == \"yellow\":\n",
    "        print(\"You found the treasure! You Win!\")\n",
    "    elif choice3 == \"blue\":\n",
    "        print(\"You enter a room of beasts. Game Over.\")\n",
    "    else:\n",
    "        print(\"You chose a door that doesn't exist. Game Over.\")\n",
    "    else:\n",
    "        print(\"You get attacked by an angry trout. Game Over.\")\n",
    "else:\n",
    "    print(\"You fell into a hole. Game Over.\")\n"
   ]
  },
  {
   "cell_type": "code",
   "execution_count": null,
   "id": "23f0ee0a",
   "metadata": {},
   "outputs": [],
   "source": []
  }
 ],
 "metadata": {
  "kernelspec": {
   "display_name": "Python 3",
   "language": "python",
   "name": "python3"
  },
  "language_info": {
   "codemirror_mode": {
    "name": "ipython",
    "version": 3
   },
   "file_extension": ".py",
   "mimetype": "text/x-python",
   "name": "python",
   "nbconvert_exporter": "python",
   "pygments_lexer": "ipython3",
   "version": "3.8.8"
  }
 },
 "nbformat": 4,
 "nbformat_minor": 5
}
