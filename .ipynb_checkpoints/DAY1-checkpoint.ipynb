{
 "cells": [
  {
   "cell_type": "code",
   "execution_count": 1,
   "id": "9ae5b985",
   "metadata": {},
   "outputs": [
    {
     "name": "stdout",
     "output_type": "stream",
     "text": [
      "What is your city? I with number of letter in your city name hjkh\n",
      "4\n"
     ]
    }
   ],
   "source": [
    "#minor\n",
    "print(len(input(\"What is your city? I with number of letter in your city name \")))\n"
   ]
  },
  {
   "cell_type": "code",
   "execution_count": 2,
   "id": "d410d8c2",
   "metadata": {},
   "outputs": [
    {
     "name": "stdout",
     "output_type": "stream",
     "text": [
      "Day 1 - String Manipulation\n",
      "String Concatenation is done with the \"+\" sign.\n",
      "e.g. print(\"Hello \" + \"world\")\n",
      "New lines can be created with a backslash and n.\n"
     ]
    }
   ],
   "source": [
    "#minor\n",
    "print(\"Day 1 - String Manipulation\")\n",
    "print('String Concatenation is done with the \"+\" sign.')\n",
    "print('e.g. print(\"Hello \" + \"world\")')\n",
    "print(\"New lines can be created with a backslash and n.\")"
   ]
  },
  {
   "cell_type": "code",
   "execution_count": 3,
   "id": "e0d908be",
   "metadata": {},
   "outputs": [
    {
     "name": "stdout",
     "output_type": "stream",
     "text": [
      "What is your namegui\n",
      "Hellogui!!!!NICE TO MEET YOU!!! Hope your day is going great!!\n"
     ]
    }
   ],
   "source": [
    "#minor\n",
    "print(\"Hello\" + input(\"What is your name\") + \"!!!!\" + \"NICE TO MEET YOU!!! Hope your day is going great!!\")\n",
    "\n"
   ]
  },
  {
   "cell_type": "code",
   "execution_count": 4,
   "id": "9b36462b",
   "metadata": {},
   "outputs": [
    {
     "name": "stdout",
     "output_type": "stream",
     "text": [
      "enter name:gyg\n",
      "hello gyg\n"
     ]
    }
   ],
   "source": [
    "#minor\n",
    "name = input(\"enter name:\")\n",
    "print(\"hello\"+ \" \" + name)\n"
   ]
  },
  {
   "cell_type": "code",
   "execution_count": 5,
   "id": "dd9586c1",
   "metadata": {},
   "outputs": [
    {
     "name": "stdout",
     "output_type": "stream",
     "text": [
      "hello world\n",
      "hello world\n",
      "hello world\n",
      "print(\"what is your name\")\n"
     ]
    }
   ],
   "source": [
    "#minor\n",
    "\n",
    "print(\"hello world\\nhello world\\nhello world\")\n",
    "print('print(\"what is your name\")')\n"
   ]
  },
  {
   "cell_type": "code",
   "execution_count": 6,
   "id": "d129c316",
   "metadata": {},
   "outputs": [
    {
     "name": "stdout",
     "output_type": "stream",
     "text": [
      "Day 1 - Python Print Function\n",
      "The function is declared like this:\n",
      "print('what to print')\n"
     ]
    }
   ],
   "source": [
    "#minor\n",
    "\n",
    "print('Day 1 - Python Print Function')\n",
    "print('The function is declared like this:')\n",
    "print(\"print('what to print')\")\n"
   ]
  },
  {
   "cell_type": "markdown",
   "id": "2cdb276d",
   "metadata": {},
   "source": [
    "# DAY1 project \n",
    "printing a band name generator. Here we are taking two strings name of city and pet name and concatenating them to make a band name.\n"
   ]
  },
  {
   "cell_type": "code",
   "execution_count": 7,
   "id": "163e1267",
   "metadata": {},
   "outputs": [
    {
     "name": "stdout",
     "output_type": "stream",
     "text": [
      "Welcome to Band name generator\n",
      "enter your city you grew up in: \n",
      "city name\n",
      "enter your pet name: \n",
      "pet name\n",
      "Your band name is  city name pet name\n"
     ]
    }
   ],
   "source": [
    "print(\"Welcome to Band name generator\")\n",
    "cityname = input(\"enter your city you grew up in: \\n\")\n",
    "petname = input(\"enter your pet name: \\n\")\n",
    "print(\"Your band name is \", cityname + \" \" + petname)"
   ]
  },
  {
   "cell_type": "code",
   "execution_count": null,
   "id": "e9fb83f9",
   "metadata": {},
   "outputs": [],
   "source": []
  }
 ],
 "metadata": {
  "kernelspec": {
   "display_name": "Python 3",
   "language": "python",
   "name": "python3"
  },
  "language_info": {
   "codemirror_mode": {
    "name": "ipython",
    "version": 3
   },
   "file_extension": ".py",
   "mimetype": "text/x-python",
   "name": "python",
   "nbconvert_exporter": "python",
   "pygments_lexer": "ipython3",
   "version": "3.8.8"
  }
 },
 "nbformat": 4,
 "nbformat_minor": 5
}
